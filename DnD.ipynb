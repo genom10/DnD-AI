{
  "cells": [
    {
      "cell_type": "code",
      "execution_count": 1,
      "metadata": {
        "colab": {
          "base_uri": "https://localhost:8080/"
        },
        "id": "_CR3ewDPjN2K",
        "outputId": "7038be0d-a996-4b7c-9811-1e4b738e02e3"
      },
      "outputs": [
        {
          "name": "stdout",
          "output_type": "stream",
          "text": [
            "Defaulting to user installation because normal site-packages is not writeable\n",
            "Requirement already satisfied: gradio in /home/genom10/.local/lib/python3.10/site-packages (3.47.1)\n",
            "Requirement already satisfied: numpy in /home/genom10/.local/lib/python3.10/site-packages (1.26.0)\n",
            "Requirement already satisfied: matplotlib in /home/genom10/.local/lib/python3.10/site-packages (3.8.0)\n",
            "Requirement already satisfied: python-multipart in /home/genom10/.local/lib/python3.10/site-packages (from gradio) (0.0.6)\n",
            "Requirement already satisfied: packaging in /home/genom10/.local/lib/python3.10/site-packages (from gradio) (23.2)\n",
            "Requirement already satisfied: pandas<3.0,>=1.0 in /home/genom10/.local/lib/python3.10/site-packages (from gradio) (2.1.1)\n",
            "Requirement already satisfied: httpx in /home/genom10/.local/lib/python3.10/site-packages (from gradio) (0.25.0)\n",
            "Requirement already satisfied: pillow<11.0,>=8.0 in /usr/lib/python3/dist-packages (from gradio) (9.0.1)\n",
            "Requirement already satisfied: typing-extensions~=4.0 in /home/genom10/.local/lib/python3.10/site-packages (from gradio) (4.8.0)\n",
            "Requirement already satisfied: pyyaml<7.0,>=5.0 in /usr/lib/python3/dist-packages (from gradio) (5.4.1)\n",
            "Requirement already satisfied: uvicorn>=0.14.0 in /home/genom10/.local/lib/python3.10/site-packages (from gradio) (0.23.2)\n",
            "Requirement already satisfied: websockets<12.0,>=10.0 in /home/genom10/.local/lib/python3.10/site-packages (from gradio) (11.0.3)\n",
            "Requirement already satisfied: huggingface-hub>=0.14.0 in /home/genom10/.local/lib/python3.10/site-packages (from gradio) (0.17.3)\n",
            "Requirement already satisfied: jinja2<4.0 in /home/genom10/.local/lib/python3.10/site-packages (from gradio) (3.1.2)\n",
            "Requirement already satisfied: importlib-resources<7.0,>=1.3 in /home/genom10/.local/lib/python3.10/site-packages (from gradio) (6.1.0)\n",
            "Requirement already satisfied: markupsafe~=2.0 in /home/genom10/.local/lib/python3.10/site-packages (from gradio) (2.1.3)\n",
            "Requirement already satisfied: pydub in /home/genom10/.local/lib/python3.10/site-packages (from gradio) (0.25.1)\n",
            "Requirement already satisfied: aiofiles<24.0,>=22.0 in /home/genom10/.local/lib/python3.10/site-packages (from gradio) (23.2.1)\n",
            "Requirement already satisfied: altair<6.0,>=4.2.0 in /home/genom10/.local/lib/python3.10/site-packages (from gradio) (5.1.2)\n",
            "Requirement already satisfied: orjson~=3.0 in /home/genom10/.local/lib/python3.10/site-packages (from gradio) (3.9.7)\n",
            "Requirement already satisfied: requests~=2.0 in /usr/lib/python3/dist-packages (from gradio) (2.25.1)\n",
            "Requirement already satisfied: ffmpy in /home/genom10/.local/lib/python3.10/site-packages (from gradio) (0.3.1)\n",
            "Requirement already satisfied: fastapi in /home/genom10/.local/lib/python3.10/site-packages (from gradio) (0.103.2)\n",
            "Requirement already satisfied: gradio-client==0.6.0 in /home/genom10/.local/lib/python3.10/site-packages (from gradio) (0.6.0)\n",
            "Requirement already satisfied: semantic-version~=2.0 in /home/genom10/.local/lib/python3.10/site-packages (from gradio) (2.10.0)\n",
            "Requirement already satisfied: pydantic!=1.8,!=1.8.1,!=2.0.0,!=2.0.1,<3.0.0,>=1.7.4 in /home/genom10/.local/lib/python3.10/site-packages (from gradio) (2.4.2)\n",
            "Requirement already satisfied: fsspec in /home/genom10/.local/lib/python3.10/site-packages (from gradio-client==0.6.0->gradio) (2023.9.2)\n",
            "Requirement already satisfied: pyparsing>=2.3.1 in /usr/lib/python3/dist-packages (from matplotlib) (2.4.7)\n",
            "Requirement already satisfied: python-dateutil>=2.7 in /home/genom10/.local/lib/python3.10/site-packages (from matplotlib) (2.8.2)\n",
            "Requirement already satisfied: cycler>=0.10 in /home/genom10/.local/lib/python3.10/site-packages (from matplotlib) (0.12.1)\n",
            "Requirement already satisfied: contourpy>=1.0.1 in /home/genom10/.local/lib/python3.10/site-packages (from matplotlib) (1.1.1)\n",
            "Requirement already satisfied: fonttools>=4.22.0 in /home/genom10/.local/lib/python3.10/site-packages (from matplotlib) (4.43.1)\n",
            "Requirement already satisfied: kiwisolver>=1.0.1 in /home/genom10/.local/lib/python3.10/site-packages (from matplotlib) (1.4.5)\n",
            "Requirement already satisfied: toolz in /home/genom10/.local/lib/python3.10/site-packages (from altair<6.0,>=4.2.0->gradio) (0.12.0)\n",
            "Requirement already satisfied: jsonschema>=3.0 in /home/genom10/.local/lib/python3.10/site-packages (from altair<6.0,>=4.2.0->gradio) (4.19.1)\n",
            "Requirement already satisfied: tqdm>=4.42.1 in /home/genom10/.local/lib/python3.10/site-packages (from huggingface-hub>=0.14.0->gradio) (4.66.1)\n",
            "Requirement already satisfied: filelock in /home/genom10/.local/lib/python3.10/site-packages (from huggingface-hub>=0.14.0->gradio) (3.12.4)\n",
            "Requirement already satisfied: tzdata>=2022.1 in /home/genom10/.local/lib/python3.10/site-packages (from pandas<3.0,>=1.0->gradio) (2023.3)\n",
            "Requirement already satisfied: pytz>=2020.1 in /usr/lib/python3/dist-packages (from pandas<3.0,>=1.0->gradio) (2022.1)\n",
            "Requirement already satisfied: pydantic-core==2.10.1 in /home/genom10/.local/lib/python3.10/site-packages (from pydantic!=1.8,!=1.8.1,!=2.0.0,!=2.0.1,<3.0.0,>=1.7.4->gradio) (2.10.1)\n",
            "Requirement already satisfied: annotated-types>=0.4.0 in /home/genom10/.local/lib/python3.10/site-packages (from pydantic!=1.8,!=1.8.1,!=2.0.0,!=2.0.1,<3.0.0,>=1.7.4->gradio) (0.6.0)\n",
            "Requirement already satisfied: six>=1.5 in /home/genom10/.local/lib/python3.10/site-packages (from python-dateutil>=2.7->matplotlib) (1.16.0)\n",
            "Requirement already satisfied: click>=7.0 in /usr/lib/python3/dist-packages (from uvicorn>=0.14.0->gradio) (8.0.3)\n",
            "Requirement already satisfied: h11>=0.8 in /home/genom10/.local/lib/python3.10/site-packages (from uvicorn>=0.14.0->gradio) (0.14.0)\n",
            "Requirement already satisfied: starlette<0.28.0,>=0.27.0 in /home/genom10/.local/lib/python3.10/site-packages (from fastapi->gradio) (0.27.0)\n",
            "Requirement already satisfied: anyio<4.0.0,>=3.7.1 in /home/genom10/.local/lib/python3.10/site-packages (from fastapi->gradio) (3.7.1)\n",
            "Requirement already satisfied: sniffio in /home/genom10/.local/lib/python3.10/site-packages (from httpx->gradio) (1.3.0)\n",
            "Requirement already satisfied: certifi in /usr/lib/python3/dist-packages (from httpx->gradio) (2020.6.20)\n",
            "Requirement already satisfied: idna in /usr/lib/python3/dist-packages (from httpx->gradio) (3.3)\n",
            "Requirement already satisfied: httpcore<0.19.0,>=0.18.0 in /home/genom10/.local/lib/python3.10/site-packages (from httpx->gradio) (0.18.0)\n",
            "Requirement already satisfied: exceptiongroup in /home/genom10/.local/lib/python3.10/site-packages (from anyio<4.0.0,>=3.7.1->fastapi->gradio) (1.1.3)\n",
            "Requirement already satisfied: rpds-py>=0.7.1 in /home/genom10/.local/lib/python3.10/site-packages (from jsonschema>=3.0->altair<6.0,>=4.2.0->gradio) (0.10.4)\n",
            "Requirement already satisfied: jsonschema-specifications>=2023.03.6 in /home/genom10/.local/lib/python3.10/site-packages (from jsonschema>=3.0->altair<6.0,>=4.2.0->gradio) (2023.7.1)\n",
            "Requirement already satisfied: referencing>=0.28.4 in /home/genom10/.local/lib/python3.10/site-packages (from jsonschema>=3.0->altair<6.0,>=4.2.0->gradio) (0.30.2)\n",
            "Requirement already satisfied: attrs>=22.2.0 in /home/genom10/.local/lib/python3.10/site-packages (from jsonschema>=3.0->altair<6.0,>=4.2.0->gradio) (23.1.0)\n",
            "Note: you may need to restart the kernel to use updated packages.\n"
          ]
        }
      ],
      "source": [
        "%pip install gradio numpy matplotlib"
      ]
    },
    {
      "cell_type": "code",
      "execution_count": 2,
      "metadata": {
        "id": "g2-5M6in-v22"
      },
      "outputs": [],
      "source": [
        "from IPython.lib.display import Tuple\n",
        "from PIL import Image\n",
        "import numpy as np\n",
        "class Unit:\n",
        "  def __init__(self, pos: Tuple, token: Image, label) -> None:\n",
        "    self.pos = np.array(pos, dtype = int)\n",
        "    self.token = token\n",
        "    self.actions = []\n",
        "    self.label = label\n",
        "\n",
        "  def add_action(self, type):\n",
        "    pass\n",
        "\n",
        "  def getToken(self, size = None) -> Image: \n",
        "    if size is None:\n",
        "      return self.token.copy()\n",
        "    else:\n",
        "      return self.token.copy().resize((size, size))\n",
        "  \n",
        "  def getLabel(self) -> str:\n",
        "    return self.label\n",
        "\n",
        "\n",
        "# testUnit = Unit((0, 0), Image.open('./Screenshot from 2023-10-08 23-05-12.png'))\n",
        "# print(type(testUnit.getToken(100)))\n",
        "# testUnit.getToken(100).show()"
      ]
    },
    {
      "cell_type": "markdown",
      "metadata": {},
      "source": [
        "Generate a grid"
      ]
    },
    {
      "cell_type": "code",
      "execution_count": 3,
      "metadata": {},
      "outputs": [],
      "source": [
        "\n",
        "import matplotlib.pyplot as plt\n",
        "import matplotlib.image as mpimg\n",
        "\n",
        "def gridGen(grid_size = 5, space = 10):\n",
        "    square_size = space + 1\n",
        "    image_size = grid_size * square_size + 1\n",
        "    new_image = Image.new('RGB', (image_size, image_size), color = 'white')\n",
        "    for i in range(0, image_size, square_size):\n",
        "        hline = Image.new('RGB', (image_size, 1), color = 'black')\n",
        "        new_image.paste(hline, (0, i))\n",
        "    for i in range(0, image_size, square_size):\n",
        "        vline = Image.new('RGB', (1, image_size), color = 'black')\n",
        "        new_image.paste(vline, (i, 0))\n",
        "    return new_image\n",
        "\n",
        "# gridGen().show()"
      ]
    },
    {
      "cell_type": "code",
      "execution_count": 4,
      "metadata": {
        "colab": {
          "base_uri": "https://localhost:8080/",
          "height": 695
        },
        "id": "Uv_GNF0TjMi2",
        "outputId": "36c1ba91-0171-40a9-d84f-19ff08449378"
      },
      "outputs": [
        {
          "name": "stderr",
          "output_type": "stream",
          "text": [
            "/home/genom10/.local/lib/python3.10/site-packages/tqdm/auto.py:21: TqdmWarning: IProgress not found. Please update jupyter and ipywidgets. See https://ipywidgets.readthedocs.io/en/stable/user_install.html\n",
            "  from .autonotebook import tqdm as notebook_tqdm\n"
          ]
        },
        {
          "name": "stdout",
          "output_type": "stream",
          "text": [
            "Running on local URL:  http://127.0.0.1:7860\n",
            "\n",
            "To create a public link, set `share=True` in `launch()`.\n"
          ]
        },
        {
          "data": {
            "text/html": [
              "<div><iframe src=\"http://127.0.0.1:7860/\" width=\"100%\" height=\"500\" allow=\"autoplay; camera; microphone; clipboard-read; clipboard-write;\" frameborder=\"0\" allowfullscreen></iframe></div>"
            ],
            "text/plain": [
              "<IPython.core.display.HTML object>"
            ]
          },
          "metadata": {},
          "output_type": "display_data"
        },
        {
          "name": "stdout",
          "output_type": "stream",
          "text": [
            "[('Husk1', 0), ('Husk2', 1), ('Husk3', 2)]\n",
            "<class 'list'>\n",
            "[('Husk1', 0), ('Husk2', 1), ('Husk3', 2), ('Aboba', 3)]\n",
            "<class 'list'>\n"
          ]
        }
      ],
      "source": [
        "from typing import List\n",
        "import gradio as gr\n",
        "import itertools\n",
        "import os\n",
        "\n",
        "units: List[Unit] = []\n",
        "\n",
        "def generate_field(gridScale, gridSize):\n",
        "  field = gridGen(gridSize, gridScale)\n",
        "  return field, gr.Tabs(visible=True)\n",
        "\n",
        "# Define the function to add an image to the canvas\n",
        "def add_token(image, x, y, label, gridScale, gridSize):\n",
        "  units.append(Unit(pos = (x, y), token = image, label=label))\n",
        "  return drawField(gridScale, gridSize)\n",
        "\n",
        "# Define the function to move an image\n",
        "def move_token(index, x, y, gridScale, gridSize):\n",
        "  units[index].pos = np.array([x, y], dtype = int)\n",
        "  return drawField(gridScale, gridSize)\n",
        "\n",
        "def drawField(gridScale = None, gridSize = None):\n",
        "  field = gridGen(gridSize, gridScale)\n",
        "  for unit in units:\n",
        "    token = unit.getToken(gridScale)\n",
        "    position = (1 + unit.pos[0]*(gridScale + 1), 1 + unit.pos[1]*(gridScale + 1))\n",
        "    field.paste(token, position, token)\n",
        "  return field\n",
        "    \n",
        "def updateTokenList():\n",
        "  new_choices = list(map(lambda x : x.getLabel(), units))\n",
        "  new_choices = list(zip(new_choices, itertools.count()))\n",
        "  print(new_choices)\n",
        "  print(type(new_choices))\n",
        "  return gr.Dropdown(new_choices, interactive=True, label='tokenID')\n",
        "\n",
        "def Dropdown_list():\n",
        "    new_options =  ['lion', 'ikon2']\n",
        "    print(new_options)\n",
        "    return gr.Dropdown(choices=new_options)\n",
        "\n",
        "with gr.Blocks() as demo:\n",
        "  with gr.Row():\n",
        "    gridScale = gr.Slider(label=\"gridScale\", value=30, minimum=10, maximum=150, step=1)\n",
        "    gridSize = gr.Slider(label=\"gridSize\", value=10, minimum=2, maximum=100, step=1)\n",
        "  im_canvas = gr.Image()\n",
        "  gridScale.change(drawField, inputs = [gridScale, gridSize], outputs=[im_canvas])\n",
        "\n",
        "\n",
        "  with gr.Tabs(visible=True) as tabs:\n",
        "    with gr.TabItem(\"Add Token\") as tab1:\n",
        "      with gr.Row():\n",
        "        with gr.Column(min_width=10):\n",
        "          x = gr.Number(label=\"x pos\")\n",
        "          y = gr.Number(label=\"y pos\")\n",
        "          label = gr.Text()\n",
        "        im_in = gr.Image(image_mode='RGBA', type='pil')\n",
        "      btn_add = gr.Button(value=\"Add token\")\n",
        "    btn_add.click(add_token, inputs=[im_in, x, y, label, gridScale, gridSize], outputs=[im_canvas])\n",
        "\n",
        "    with gr.TabItem(\"Move Token\") as tab2:\n",
        "      with gr.Row():\n",
        "          tokenID = gr.Dropdown(['t1', 't2'], label='tokenID')\n",
        "          tab2.select(updateTokenList, outputs=tokenID)\n",
        "          x_move = gr.Number(label=\"x pos\")\n",
        "          y_move = gr.Number(label=\"y pos\")\n",
        "      btn_move = gr.Button(value=\"Move token\")\n",
        "    btn_move.click(move_token, inputs=[tokenID, x_move, y_move, gridScale, gridSize], outputs=[im_canvas])\n",
        "\n",
        "\n",
        "if __name__ == \"__main__\":\n",
        "    demo.launch()"
      ]
    }
  ],
  "metadata": {
    "colab": {
      "provenance": []
    },
    "kernelspec": {
      "display_name": "Python 3",
      "name": "python3"
    },
    "language_info": {
      "codemirror_mode": {
        "name": "ipython",
        "version": 3
      },
      "file_extension": ".py",
      "mimetype": "text/x-python",
      "name": "python",
      "nbconvert_exporter": "python",
      "pygments_lexer": "ipython3",
      "version": "3.10.12"
    }
  },
  "nbformat": 4,
  "nbformat_minor": 0
}
